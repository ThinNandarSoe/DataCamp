{
 "cells": [
  {
   "cell_type": "code",
   "execution_count": 1,
   "metadata": {},
   "outputs": [],
   "source": [
    "import folium\n",
    "from shapely.geometry import Point\n",
    "import pandas as pd\n",
    "import geopandas as gpd"
   ]
  },
  {
   "cell_type": "code",
   "execution_count": 2,
   "metadata": {},
   "outputs": [
    {
     "data": {
      "text/html": [
       "<div>\n",
       "<style scoped>\n",
       "    .dataframe tbody tr th:only-of-type {\n",
       "        vertical-align: middle;\n",
       "    }\n",
       "\n",
       "    .dataframe tbody tr th {\n",
       "        vertical-align: top;\n",
       "    }\n",
       "\n",
       "    .dataframe thead th {\n",
       "        text-align: right;\n",
       "    }\n",
       "</style>\n",
       "<table border=\"1\" class=\"dataframe\">\n",
       "  <thead>\n",
       "    <tr style=\"text-align: right;\">\n",
       "      <th></th>\n",
       "      <th>name</th>\n",
       "      <th>geometry</th>\n",
       "    </tr>\n",
       "  </thead>\n",
       "  <tbody>\n",
       "    <tr>\n",
       "      <th>0</th>\n",
       "      <td>Historic Buena Vista</td>\n",
       "      <td>(POLYGON ((-86.79511056795417 36.1757596496334...</td>\n",
       "    </tr>\n",
       "    <tr>\n",
       "      <th>1</th>\n",
       "      <td>Charlotte Park</td>\n",
       "      <td>(POLYGON ((-86.87459668651866 36.1575770268129...</td>\n",
       "    </tr>\n",
       "    <tr>\n",
       "      <th>2</th>\n",
       "      <td>Hillwood</td>\n",
       "      <td>(POLYGON ((-86.87613708067906 36.1355409894979...</td>\n",
       "    </tr>\n",
       "    <tr>\n",
       "      <th>3</th>\n",
       "      <td>West Meade</td>\n",
       "      <td>(POLYGON ((-86.9038380396094 36.1255414807897,...</td>\n",
       "    </tr>\n",
       "    <tr>\n",
       "      <th>4</th>\n",
       "      <td>White Bridge</td>\n",
       "      <td>(POLYGON ((-86.86321427797685 36.1288622289404...</td>\n",
       "    </tr>\n",
       "  </tbody>\n",
       "</table>\n",
       "</div>"
      ],
      "text/plain": [
       "                   name                                           geometry\n",
       "0  Historic Buena Vista  (POLYGON ((-86.79511056795417 36.1757596496334...\n",
       "1        Charlotte Park  (POLYGON ((-86.87459668651866 36.1575770268129...\n",
       "2              Hillwood  (POLYGON ((-86.87613708067906 36.1355409894979...\n",
       "3            West Meade  (POLYGON ((-86.9038380396094 36.1255414807897,...\n",
       "4          White Bridge  (POLYGON ((-86.86321427797685 36.1288622289404..."
      ]
     },
     "execution_count": 2,
     "metadata": {},
     "output_type": "execute_result"
    }
   ],
   "source": [
    "neighborhoods = gpd.read_file(\"./datasets/neighborhoods.geojson\")\n",
    "neighborhoods.head()"
   ]
  },
  {
   "cell_type": "code",
   "execution_count": 3,
   "metadata": {},
   "outputs": [
    {
     "data": {
      "text/html": [
       "<div>\n",
       "<style scoped>\n",
       "    .dataframe tbody tr th:only-of-type {\n",
       "        vertical-align: middle;\n",
       "    }\n",
       "\n",
       "    .dataframe tbody tr th {\n",
       "        vertical-align: top;\n",
       "    }\n",
       "\n",
       "    .dataframe thead th {\n",
       "        text-align: right;\n",
       "    }\n",
       "</style>\n",
       "<table border=\"1\" class=\"dataframe\">\n",
       "  <thead>\n",
       "    <tr style=\"text-align: right;\">\n",
       "      <th></th>\n",
       "      <th>name</th>\n",
       "      <th>geometry</th>\n",
       "    </tr>\n",
       "  </thead>\n",
       "  <tbody>\n",
       "    <tr>\n",
       "      <th>41</th>\n",
       "      <td>Urban Residents</td>\n",
       "      <td>(POLYGON ((-86.78122053774267 36.1645653773768...</td>\n",
       "    </tr>\n",
       "  </tbody>\n",
       "</table>\n",
       "</div>"
      ],
      "text/plain": [
       "               name                                           geometry\n",
       "41  Urban Residents  (POLYGON ((-86.78122053774267 36.1645653773768..."
      ]
     },
     "execution_count": 3,
     "metadata": {},
     "output_type": "execute_result"
    }
   ],
   "source": [
    "urban_polygon = neighborhoods.loc[neighborhoods.name == \"Urban Residents\"]\n",
    "\n",
    "# Print the head of the urban_polygon\n",
    "urban_polygon.head()"
   ]
  },
  {
   "cell_type": "code",
   "execution_count": 4,
   "metadata": {},
   "outputs": [
    {
     "name": "stderr",
     "output_type": "stream",
     "text": [
      "/Users/thin.nandar/anaconda3/lib/python3.7/site-packages/ipykernel_launcher.py:1: SettingWithCopyWarning: \n",
      "A value is trying to be set on a copy of a slice from a DataFrame.\n",
      "Try using .loc[row_indexer,col_indexer] = value instead\n",
      "\n",
      "See the caveats in the documentation: http://pandas.pydata.org/pandas-docs/stable/indexing.html#indexing-view-versus-copy\n",
      "  \"\"\"Entry point for launching an IPython kernel.\n"
     ]
    },
    {
     "data": {
      "text/html": [
       "<div>\n",
       "<style scoped>\n",
       "    .dataframe tbody tr th:only-of-type {\n",
       "        vertical-align: middle;\n",
       "    }\n",
       "\n",
       "    .dataframe tbody tr th {\n",
       "        vertical-align: top;\n",
       "    }\n",
       "\n",
       "    .dataframe thead th {\n",
       "        text-align: right;\n",
       "    }\n",
       "</style>\n",
       "<table border=\"1\" class=\"dataframe\">\n",
       "  <thead>\n",
       "    <tr style=\"text-align: right;\">\n",
       "      <th></th>\n",
       "      <th>name</th>\n",
       "      <th>geometry</th>\n",
       "      <th>center</th>\n",
       "    </tr>\n",
       "  </thead>\n",
       "  <tbody>\n",
       "    <tr>\n",
       "      <th>41</th>\n",
       "      <td>Urban Residents</td>\n",
       "      <td>(POLYGON ((-86.78122053774267 36.1645653773768...</td>\n",
       "      <td>POINT (-86.77756457127047 36.16127820928791)</td>\n",
       "    </tr>\n",
       "  </tbody>\n",
       "</table>\n",
       "</div>"
      ],
      "text/plain": [
       "               name                                           geometry  \\\n",
       "41  Urban Residents  (POLYGON ((-86.78122053774267 36.1645653773768...   \n",
       "\n",
       "                                          center  \n",
       "41  POINT (-86.77756457127047 36.16127820928791)  "
      ]
     },
     "execution_count": 4,
     "metadata": {},
     "output_type": "execute_result"
    }
   ],
   "source": [
    "urban_polygon['center'] = urban_polygon.loc[41,'geometry'].centroid\n",
    "urban_polygon.head()"
   ]
  },
  {
   "cell_type": "markdown",
   "metadata": {},
   "source": [
    "# Create a folium location from the urban centroid"
   ]
  },
  {
   "cell_type": "code",
   "execution_count": 5,
   "metadata": {},
   "outputs": [
    {
     "name": "stdout",
     "output_type": "stream",
     "text": [
      "POINT (-86.77756457127047 36.16127820928791)\n",
      "[36.161278209287914, -86.77756457127047]\n"
     ]
    }
   ],
   "source": [
    "# Create urban_center from the urban_polygon center\n",
    "urban_center = urban_polygon.loc[41,\"center\"]\n",
    "\n",
    "# Print urban_center\n",
    "print(urban_center)\n",
    "\n",
    "# Create array for folium called urban_location\n",
    "urban_location = [urban_center.y, urban_center.x]\n",
    "\n",
    "# Print urban_location\n",
    "print(urban_location)"
   ]
  },
  {
   "cell_type": "markdown",
   "metadata": {},
   "source": [
    "# Create a folium map of downtown Nashville"
   ]
  },
  {
   "cell_type": "code",
   "execution_count": 6,
   "metadata": {},
   "outputs": [
    {
     "data": {
      "text/html": [
       "<div style=\"width:100%;\"><div style=\"position:relative;width:100%;height:0;padding-bottom:60%;\"><iframe src=\"data:text/html;charset=utf-8;base64,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\" style=\"position:absolute;width:100%;height:100%;left:0;top:0;border:none !important;\" allowfullscreen webkitallowfullscreen mozallowfullscreen></iframe></div></div>"
      ],
      "text/plain": [
       "<folium.folium.Map at 0x124223a90>"
      ]
     },
     "metadata": {},
     "output_type": "display_data"
    }
   ],
   "source": [
    "# Construct a folium map with urban_location\n",
    "downtown_map = folium.Map(location = urban_location, zoom_start = 15)\n",
    "\n",
    "# Display the map\n",
    "display(downtown_map)"
   ]
  },
  {
   "cell_type": "markdown",
   "metadata": {},
   "source": [
    "# Folium street map of the downtown neighborhood"
   ]
  },
  {
   "cell_type": "code",
   "execution_count": 7,
   "metadata": {},
   "outputs": [
    {
     "data": {
      "text/html": [
       "<div style=\"width:100%;\"><div style=\"position:relative;width:100%;height:0;padding-bottom:60%;\"><iframe src=\"data:text/html;charset=utf-8;base64,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\" style=\"position:absolute;width:100%;height:100%;left:0;top:0;border:none !important;\" allowfullscreen webkitallowfullscreen mozallowfullscreen></iframe></div></div>"
      ],
      "text/plain": [
       "<folium.folium.Map at 0x124231da0>"
      ]
     },
     "metadata": {},
     "output_type": "display_data"
    }
   ],
   "source": [
    "# Create array for called folium_loc from the urban_polygon center point\n",
    "point = urban_polygon.loc[41,\"center\"]\n",
    "folium_loc = [point.y, point.x]\n",
    "\n",
    "# Construct a map from folium_loc: downtown_map\n",
    "downtown_map = folium.Map(location = folium_loc, zoom_start = 15)\n",
    "\n",
    "# Draw our neighborhood: Urban Residents\n",
    "folium.GeoJson(urban_polygon.geometry).add_to(downtown_map)\n",
    "\n",
    "# Display the map\n",
    "display(downtown_map)"
   ]
  },
  {
   "cell_type": "markdown",
   "metadata": {},
   "source": [
    "# Adding markers for the public art"
   ]
  },
  {
   "cell_type": "code",
   "execution_count": 8,
   "metadata": {},
   "outputs": [
    {
     "data": {
      "text/html": [
       "<div>\n",
       "<style scoped>\n",
       "    .dataframe tbody tr th:only-of-type {\n",
       "        vertical-align: middle;\n",
       "    }\n",
       "\n",
       "    .dataframe tbody tr th {\n",
       "        vertical-align: top;\n",
       "    }\n",
       "\n",
       "    .dataframe thead th {\n",
       "        text-align: right;\n",
       "    }\n",
       "</style>\n",
       "<table border=\"1\" class=\"dataframe\">\n",
       "  <thead>\n",
       "    <tr style=\"text-align: right;\">\n",
       "      <th></th>\n",
       "      <th>Title</th>\n",
       "      <th>Last Name</th>\n",
       "      <th>First Name</th>\n",
       "      <th>Location</th>\n",
       "      <th>Medium</th>\n",
       "      <th>Type</th>\n",
       "      <th>Description</th>\n",
       "      <th>Latitude</th>\n",
       "      <th>Longitude</th>\n",
       "      <th>Mapped Location</th>\n",
       "      <th>geometry</th>\n",
       "      <th>index_right</th>\n",
       "      <th>name</th>\n",
       "    </tr>\n",
       "  </thead>\n",
       "  <tbody>\n",
       "    <tr>\n",
       "      <th>1</th>\n",
       "      <td>[Fourth and Commerce Sculpture]</td>\n",
       "      <td>Walker</td>\n",
       "      <td>Lin</td>\n",
       "      <td>333 Commerce Street, Nashville TN</td>\n",
       "      <td>NaN</td>\n",
       "      <td>Sculpture</td>\n",
       "      <td>NaN</td>\n",
       "      <td>36.16234</td>\n",
       "      <td>-86.77774</td>\n",
       "      <td>(36.16234, -86.77774)</td>\n",
       "      <td>POINT (-86.77774000000001 36.16234)</td>\n",
       "      <td>41</td>\n",
       "      <td>Urban Residents</td>\n",
       "    </tr>\n",
       "    <tr>\n",
       "      <th>4</th>\n",
       "      <td>A Story of Nashville</td>\n",
       "      <td>Ridley</td>\n",
       "      <td>Greg</td>\n",
       "      <td>615 Church Street, Nashville TN</td>\n",
       "      <td>Hammered copper repousse</td>\n",
       "      <td>Frieze</td>\n",
       "      <td>Inside the Grand Reading Room, this is a serie...</td>\n",
       "      <td>36.16215</td>\n",
       "      <td>-86.78205</td>\n",
       "      <td>(36.16215, -86.78205)</td>\n",
       "      <td>POINT (-86.78205 36.16215)</td>\n",
       "      <td>41</td>\n",
       "      <td>Urban Residents</td>\n",
       "    </tr>\n",
       "    <tr>\n",
       "      <th>21</th>\n",
       "      <td>Chet Atkins</td>\n",
       "      <td>Faxon</td>\n",
       "      <td>Russell</td>\n",
       "      <td>Corner of Fifth Avenue North and Union Street,...</td>\n",
       "      <td>Bronze stool and guitar on a granite plynth</td>\n",
       "      <td>Sculpture</td>\n",
       "      <td>A sculpture of a young Chet Atkins seated on a...</td>\n",
       "      <td>36.16466</td>\n",
       "      <td>-86.78102</td>\n",
       "      <td>(36.16466, -86.78102)</td>\n",
       "      <td>POINT (-86.78102 36.16466)</td>\n",
       "      <td>41</td>\n",
       "      <td>Urban Residents</td>\n",
       "    </tr>\n",
       "    <tr>\n",
       "      <th>22</th>\n",
       "      <td>Children's Chairs For The Seasons</td>\n",
       "      <td>McGraw</td>\n",
       "      <td>Deloss</td>\n",
       "      <td>615 Church Street, Nashville TN</td>\n",
       "      <td>Mixed Media - wood and paint</td>\n",
       "      <td>Furniture</td>\n",
       "      <td>chairs depicting the four seasons</td>\n",
       "      <td>36.16215</td>\n",
       "      <td>-86.78205</td>\n",
       "      <td>(36.16215, -86.78205)</td>\n",
       "      <td>POINT (-86.78205 36.16215)</td>\n",
       "      <td>41</td>\n",
       "      <td>Urban Residents</td>\n",
       "    </tr>\n",
       "    <tr>\n",
       "      <th>34</th>\n",
       "      <td>Foliated Scroll</td>\n",
       "      <td>Bloomer</td>\n",
       "      <td>Kent</td>\n",
       "      <td>615 Church Street, Nashville TN</td>\n",
       "      <td>Aluminum</td>\n",
       "      <td>Frieze</td>\n",
       "      <td>a contemporary adaptation of a classical folia...</td>\n",
       "      <td>36.16215</td>\n",
       "      <td>-86.78205</td>\n",
       "      <td>(36.16215, -86.78205)</td>\n",
       "      <td>POINT (-86.78205 36.16215)</td>\n",
       "      <td>41</td>\n",
       "      <td>Urban Residents</td>\n",
       "    </tr>\n",
       "  </tbody>\n",
       "</table>\n",
       "</div>"
      ],
      "text/plain": [
       "                                Title Last Name First Name  \\\n",
       "1     [Fourth and Commerce Sculpture]    Walker        Lin   \n",
       "4                A Story of Nashville    Ridley       Greg   \n",
       "21                        Chet Atkins     Faxon    Russell   \n",
       "22  Children's Chairs For The Seasons    McGraw     Deloss   \n",
       "34                    Foliated Scroll   Bloomer       Kent   \n",
       "\n",
       "                                             Location  \\\n",
       "1                   333 Commerce Street, Nashville TN   \n",
       "4                     615 Church Street, Nashville TN   \n",
       "21  Corner of Fifth Avenue North and Union Street,...   \n",
       "22                    615 Church Street, Nashville TN   \n",
       "34                    615 Church Street, Nashville TN   \n",
       "\n",
       "                                         Medium       Type  \\\n",
       "1                                           NaN  Sculpture   \n",
       "4                      Hammered copper repousse     Frieze   \n",
       "21  Bronze stool and guitar on a granite plynth  Sculpture   \n",
       "22                 Mixed Media - wood and paint  Furniture   \n",
       "34                                     Aluminum     Frieze   \n",
       "\n",
       "                                          Description  Latitude  Longitude  \\\n",
       "1                                                 NaN  36.16234  -86.77774   \n",
       "4   Inside the Grand Reading Room, this is a serie...  36.16215  -86.78205   \n",
       "21  A sculpture of a young Chet Atkins seated on a...  36.16466  -86.78102   \n",
       "22                  chairs depicting the four seasons  36.16215  -86.78205   \n",
       "34  a contemporary adaptation of a classical folia...  36.16215  -86.78205   \n",
       "\n",
       "          Mapped Location                             geometry  index_right  \\\n",
       "1   (36.16234, -86.77774)  POINT (-86.77774000000001 36.16234)           41   \n",
       "4   (36.16215, -86.78205)           POINT (-86.78205 36.16215)           41   \n",
       "21  (36.16466, -86.78102)           POINT (-86.78102 36.16466)           41   \n",
       "22  (36.16215, -86.78205)           POINT (-86.78205 36.16215)           41   \n",
       "34  (36.16215, -86.78205)           POINT (-86.78205 36.16215)           41   \n",
       "\n",
       "               name  \n",
       "1   Urban Residents  \n",
       "4   Urban Residents  \n",
       "21  Urban Residents  \n",
       "22  Urban Residents  \n",
       "34  Urban Residents  "
      ]
     },
     "execution_count": 8,
     "metadata": {},
     "output_type": "execute_result"
    }
   ],
   "source": [
    "# From Chapter 2\n",
    "art = pd.read_csv(\"./datasets/public_art.csv\")\n",
    "\n",
    "# Create a geometry column from lng & lat\n",
    "art['geometry'] = art.apply(lambda x: Point(float(x.Longitude), float(x.Latitude)), axis=1)\n",
    "\n",
    "# Create a GeoDataFrame from art and verify the type\n",
    "art_geo = gpd.GeoDataFrame(art, crs = neighborhoods.crs, geometry = art.geometry)\n",
    "\n",
    "neighborhood_art = gpd.sjoin(art_geo, neighborhoods, op = \"within\")\n",
    "urban_art = neighborhood_art[neighborhood_art.name == \"Urban Residents\"]\n",
    "urban_art.head()"
   ]
  },
  {
   "cell_type": "code",
   "execution_count": 9,
   "metadata": {},
   "outputs": [
    {
     "name": "stdout",
     "output_type": "stream",
     "text": [
      "first part:  1\n",
      "second part:  Title                  [Fourth and Commerce Sculpture]\n",
      "Last Name                                       Walker\n",
      "First Name                                         Lin\n",
      "Location             333 Commerce Street, Nashville TN\n",
      "Medium                                             NaN\n",
      "Type                                         Sculpture\n",
      "Description                                        NaN\n",
      "Latitude                                       36.1623\n",
      "Longitude                                     -86.7777\n",
      "Mapped Location                  (36.16234, -86.77774)\n",
      "geometry           POINT (-86.77774000000001 36.16234)\n",
      "index_right                                         41\n",
      "name                                   Urban Residents\n",
      "Name: 1, dtype: object\n"
     ]
    },
    {
     "data": {
      "text/html": [
       "<div style=\"width:100%;\"><div style=\"position:relative;width:100%;height:0;padding-bottom:60%;\"><iframe src=\"data:text/html;charset=utf-8;base64,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\" style=\"position:absolute;width:100%;height:100%;left:0;top:0;border:none !important;\" allowfullscreen webkitallowfullscreen mozallowfullscreen></iframe></div></div>"
      ],
      "text/plain": [
       "<folium.folium.Map at 0x124231da0>"
      ]
     },
     "metadata": {},
     "output_type": "display_data"
    }
   ],
   "source": [
    "# Iterate through the urban_art and print each part of tuple returned\n",
    "for row in urban_art.iterrows():\n",
    "    if row[0] == 1:\n",
    "        print('first part: ', row[0])\n",
    "        print('second part: ', row[1])\n",
    "\n",
    "# Create a location and marker with each iteration for the downtown_map\n",
    "for row in urban_art.iterrows():\n",
    "    row_values = row[1] \n",
    "    location = [row_values['Latitude'], row_values['Longitude']]\n",
    "    marker = folium.Marker(location = location)\n",
    "    marker.add_to(downtown_map)\n",
    "\n",
    "# Display the map\n",
    "display(downtown_map)"
   ]
  },
  {
   "cell_type": "markdown",
   "metadata": {},
   "source": [
    "# Troubleshooting data issues"
   ]
  },
  {
   "cell_type": "code",
   "execution_count": 10,
   "metadata": {
    "collapsed": true,
    "jupyter": {
     "outputs_hidden": true
    }
   },
   "outputs": [
    {
     "name": "stdout",
     "output_type": "stream",
     "text": [
      "1                        [Fourth and Commerce Sculpture]\n",
      "4                                   A Story of Nashville\n",
      "21                                           Chet Atkins\n",
      "22                     Children's Chairs For The Seasons\n",
      "34                                       Foliated Scroll\n",
      "39                                          Gone Fishing\n",
      "40                             Happy Times at The Arcade\n",
      "54                                     Johnny Cash Mural\n",
      "55                                 La Storia della Terra\n",
      "57                                 Les Paul Guitar Mural\n",
      "59                                         Library Doors\n",
      "60                               Lightning Wire Fountain\n",
      "66     Nashville, A History through Maps and Aerial V...\n",
      "67                                               Oh, Roy\n",
      "68                                  Orpheus and Eurydice\n",
      "75                               Piecing It All Together\n",
      "104                                  The Birth of Apollo\n",
      "105                                          The Flutist\n",
      "107                                           The Prince\n",
      "109                                  The Recording Angel\n",
      "112                                   Thomas Gleen Ryman\n",
      "114                                             Timeless\n",
      "Name: Title, dtype: object\n",
      "1                                                    NaN\n",
      "4      Inside the Grand Reading Room, this is a serie...\n",
      "21     A sculpture of a young Chet Atkins seated on a...\n",
      "22                     chairs depicting the four seasons\n",
      "34     a contemporary adaptation of a classical folia...\n",
      "39     Just having some fun with Trompe L'oeil balconies\n",
      "40          Trompe L'oeil artwork celebrating The Arcade\n",
      "54     Classic street art by Thoughts Manifested crew...\n",
      "55     A 20 foot tower of stone books. There are 26 b...\n",
      "57                                                   NaN\n",
      "59     images of local people as well as Tennessee an...\n",
      "60                                                   NaN\n",
      "66     Eight scenes showing the development of Nashvi...\n",
      "67     Minnie Pearl and Roy Acuff seated on a bench i...\n",
      "68     Relief sculpture above main entrance of Scherm...\n",
      "75                                                   NaN\n",
      "104    Two figures topping a fountain, one with a lyr...\n",
      "105    Statue commemorating Kenneth D Schermerhorn, M...\n",
      "107    The Little Prince\\nOutlaw hung a whimsical mob...\n",
      "109       Bronze angel holding a fountain pen and tablet\n",
      "112    Full-length standing figure of Ryman, holding ...\n",
      "114    Two nearly interlinked hemicycles with cannonb...\n",
      "Name: Description, dtype: object\n",
      "1                                                       \n",
      "4      Inside the Grand Reading Room, this is a serie...\n",
      "21     A sculpture of a young Chet Atkins seated on a...\n",
      "22                     chairs depicting the four seasons\n",
      "34     a contemporary adaptation of a classical folia...\n",
      "39     Just having some fun with Trompe L`oeil balconies\n",
      "40          Trompe L`oeil artwork celebrating The Arcade\n",
      "54     Classic street art by Thoughts Manifested crew...\n",
      "55     A 20 foot tower of stone books. There are 26 b...\n",
      "57                                                      \n",
      "59     images of local people as well as Tennessee an...\n",
      "60                                                      \n",
      "66     Eight scenes showing the development of Nashvi...\n",
      "67     Minnie Pearl and Roy Acuff seated on a bench i...\n",
      "68     Relief sculpture above main entrance of Scherm...\n",
      "75                                                      \n",
      "104    Two figures topping a fountain, one with a lyr...\n",
      "105    Statue commemorating Kenneth D Schermerhorn, M...\n",
      "107    The Little Prince\\nOutlaw hung a whimsical mob...\n",
      "109       Bronze angel holding a fountain pen and tablet\n",
      "112    Full-length standing figure of Ryman, holding ...\n",
      "114    Two nearly interlinked hemicycles with cannonb...\n",
      "Name: Description, dtype: object\n"
     ]
    },
    {
     "name": "stderr",
     "output_type": "stream",
     "text": [
      "/Users/thin.nandar/anaconda3/lib/python3.7/site-packages/pandas/core/generic.py:6130: SettingWithCopyWarning: \n",
      "A value is trying to be set on a copy of a slice from a DataFrame\n",
      "\n",
      "See the caveats in the documentation: http://pandas.pydata.org/pandas-docs/stable/indexing.html#indexing-view-versus-copy\n",
      "  self._update_inplace(new_data)\n",
      "/Users/thin.nandar/anaconda3/lib/python3.7/site-packages/pandas/core/generic.py:5096: SettingWithCopyWarning: \n",
      "A value is trying to be set on a copy of a slice from a DataFrame.\n",
      "Try using .loc[row_indexer,col_indexer] = value instead\n",
      "\n",
      "See the caveats in the documentation: http://pandas.pydata.org/pandas-docs/stable/indexing.html#indexing-view-versus-copy\n",
      "  self[name] = value\n"
     ]
    }
   ],
   "source": [
    "# Print the urban_art titles\n",
    "print(urban_art.Title)\n",
    "\n",
    "#Print the urban_art descriptions\n",
    "print(urban_art.Description)\n",
    "\n",
    "# Replace Nan and ' values in description\n",
    "urban_art.Description.fillna('', inplace = True)\n",
    "urban_art.Description = urban_art.Description.str.replace(\"'\", \"`\")\n",
    "\n",
    "#Print the urban_art descriptions again\n",
    "print(urban_art.Description)"
   ]
  },
  {
   "cell_type": "markdown",
   "metadata": {},
   "source": [
    "# A map of downtown art"
   ]
  },
  {
   "cell_type": "code",
   "execution_count": 11,
   "metadata": {},
   "outputs": [
    {
     "data": {
      "text/plain": [
       "[36.161278209287914, -86.77756457127047]"
      ]
     },
     "execution_count": 11,
     "metadata": {},
     "output_type": "execute_result"
    }
   ],
   "source": [
    "urban_location"
   ]
  },
  {
   "cell_type": "code",
   "execution_count": 12,
   "metadata": {},
   "outputs": [
    {
     "data": {
      "text/plain": [
       "41    (POLYGON ((-86.78122053774267 36.1645653773768...\n",
       "Name: geometry, dtype: object"
      ]
     },
     "execution_count": 12,
     "metadata": {},
     "output_type": "execute_result"
    }
   ],
   "source": [
    "urban_polygon.geometry"
   ]
  },
  {
   "cell_type": "code",
   "execution_count": 14,
   "metadata": {},
   "outputs": [
    {
     "data": {
      "text/html": [
       "<div style=\"width:100%;\"><div style=\"position:relative;width:100%;height:0;padding-bottom:60%;\"><iframe src=\"data:text/html;charset=utf-8;base64,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\" style=\"position:absolute;width:100%;height:100%;left:0;top:0;border:none !important;\" allowfullscreen webkitallowfullscreen mozallowfullscreen></iframe></div></div>"
      ],
      "text/plain": [
       "<folium.folium.Map at 0x1242fb898>"
      ]
     },
     "metadata": {},
     "output_type": "display_data"
    }
   ],
   "source": [
    "# Construct downtown map\n",
    "downtown_map = folium.Map(location = urban_location, zoom_start = 15)\n",
    "folium.GeoJson(urban_polygon.geometry).add_to(downtown_map)\n",
    "\n",
    "# Create popups inside the loop you built to create the markers\n",
    "for row in urban_art.iterrows():\n",
    "    row_values = row[1]\n",
    "    location = [row_values['Latitude'], row_values['Longitude']]\n",
    "    popup = (str(row_values['Title']))\n",
    "    #popup = (str(row_values['Title']) + ': ' + str(row_values['Description'])).replace(\"'\", \"`\")\n",
    "    #print(popup)\n",
    "    marker = folium.Marker(location = location, popup = popup)\n",
    "    #print(marker)\n",
    "    #print()\n",
    "    marker.add_to(downtown_map)\n",
    "\n",
    "# Display the map.\n",
    "display(downtown_map)"
   ]
  },
  {
   "cell_type": "code",
   "execution_count": null,
   "metadata": {},
   "outputs": [],
   "source": []
  }
 ],
 "metadata": {
  "kernelspec": {
   "display_name": "Python 3",
   "language": "python",
   "name": "python3"
  },
  "language_info": {
   "codemirror_mode": {
    "name": "ipython",
    "version": 3
   },
   "file_extension": ".py",
   "mimetype": "text/x-python",
   "name": "python",
   "nbconvert_exporter": "python",
   "pygments_lexer": "ipython3",
   "version": "3.7.3"
  }
 },
 "nbformat": 4,
 "nbformat_minor": 4
}
