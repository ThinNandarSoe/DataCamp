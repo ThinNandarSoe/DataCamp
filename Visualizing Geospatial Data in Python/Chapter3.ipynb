{
 "cells": [
  {
   "cell_type": "code",
   "execution_count": 1,
   "metadata": {},
   "outputs": [],
   "source": [
    "import folium\n",
    "from shapely.geometry import Point\n",
    "import pandas as pd\n",
    "import geopandas as gpd"
   ]
  },
  {
   "cell_type": "code",
   "execution_count": 2,
   "metadata": {},
   "outputs": [
    {
     "data": {
      "text/html": [
       "<div>\n",
       "<style scoped>\n",
       "    .dataframe tbody tr th:only-of-type {\n",
       "        vertical-align: middle;\n",
       "    }\n",
       "\n",
       "    .dataframe tbody tr th {\n",
       "        vertical-align: top;\n",
       "    }\n",
       "\n",
       "    .dataframe thead th {\n",
       "        text-align: right;\n",
       "    }\n",
       "</style>\n",
       "<table border=\"1\" class=\"dataframe\">\n",
       "  <thead>\n",
       "    <tr style=\"text-align: right;\">\n",
       "      <th></th>\n",
       "      <th>name</th>\n",
       "      <th>geometry</th>\n",
       "    </tr>\n",
       "  </thead>\n",
       "  <tbody>\n",
       "    <tr>\n",
       "      <th>0</th>\n",
       "      <td>Historic Buena Vista</td>\n",
       "      <td>(POLYGON ((-86.79511056795417 36.1757596496334...</td>\n",
       "    </tr>\n",
       "    <tr>\n",
       "      <th>1</th>\n",
       "      <td>Charlotte Park</td>\n",
       "      <td>(POLYGON ((-86.87459668651866 36.1575770268129...</td>\n",
       "    </tr>\n",
       "    <tr>\n",
       "      <th>2</th>\n",
       "      <td>Hillwood</td>\n",
       "      <td>(POLYGON ((-86.87613708067906 36.1355409894979...</td>\n",
       "    </tr>\n",
       "    <tr>\n",
       "      <th>3</th>\n",
       "      <td>West Meade</td>\n",
       "      <td>(POLYGON ((-86.9038380396094 36.1255414807897,...</td>\n",
       "    </tr>\n",
       "    <tr>\n",
       "      <th>4</th>\n",
       "      <td>White Bridge</td>\n",
       "      <td>(POLYGON ((-86.86321427797685 36.1288622289404...</td>\n",
       "    </tr>\n",
       "  </tbody>\n",
       "</table>\n",
       "</div>"
      ],
      "text/plain": [
       "                   name                                           geometry\n",
       "0  Historic Buena Vista  (POLYGON ((-86.79511056795417 36.1757596496334...\n",
       "1        Charlotte Park  (POLYGON ((-86.87459668651866 36.1575770268129...\n",
       "2              Hillwood  (POLYGON ((-86.87613708067906 36.1355409894979...\n",
       "3            West Meade  (POLYGON ((-86.9038380396094 36.1255414807897,...\n",
       "4          White Bridge  (POLYGON ((-86.86321427797685 36.1288622289404..."
      ]
     },
     "execution_count": 2,
     "metadata": {},
     "output_type": "execute_result"
    }
   ],
   "source": [
    "neighborhoods = gpd.read_file(\"./datasets/neighborhoods.geojson\")\n",
    "neighborhoods.head()"
   ]
  },
  {
   "cell_type": "code",
   "execution_count": 3,
   "metadata": {},
   "outputs": [
    {
     "data": {
      "text/html": [
       "<div>\n",
       "<style scoped>\n",
       "    .dataframe tbody tr th:only-of-type {\n",
       "        vertical-align: middle;\n",
       "    }\n",
       "\n",
       "    .dataframe tbody tr th {\n",
       "        vertical-align: top;\n",
       "    }\n",
       "\n",
       "    .dataframe thead th {\n",
       "        text-align: right;\n",
       "    }\n",
       "</style>\n",
       "<table border=\"1\" class=\"dataframe\">\n",
       "  <thead>\n",
       "    <tr style=\"text-align: right;\">\n",
       "      <th></th>\n",
       "      <th>name</th>\n",
       "      <th>geometry</th>\n",
       "    </tr>\n",
       "  </thead>\n",
       "  <tbody>\n",
       "    <tr>\n",
       "      <th>41</th>\n",
       "      <td>Urban Residents</td>\n",
       "      <td>(POLYGON ((-86.78122053774267 36.1645653773768...</td>\n",
       "    </tr>\n",
       "  </tbody>\n",
       "</table>\n",
       "</div>"
      ],
      "text/plain": [
       "               name                                           geometry\n",
       "41  Urban Residents  (POLYGON ((-86.78122053774267 36.1645653773768..."
      ]
     },
     "execution_count": 3,
     "metadata": {},
     "output_type": "execute_result"
    }
   ],
   "source": [
    "urban_polygon = neighborhoods.loc[neighborhoods.name == \"Urban Residents\"]\n",
    "\n",
    "# Print the head of the urban_polygon\n",
    "urban_polygon.head()"
   ]
  },
  {
   "cell_type": "code",
   "execution_count": 4,
   "metadata": {},
   "outputs": [
    {
     "name": "stderr",
     "output_type": "stream",
     "text": [
      "/Users/thin.nandar/anaconda3/lib/python3.7/site-packages/ipykernel_launcher.py:1: SettingWithCopyWarning: \n",
      "A value is trying to be set on a copy of a slice from a DataFrame.\n",
      "Try using .loc[row_indexer,col_indexer] = value instead\n",
      "\n",
      "See the caveats in the documentation: http://pandas.pydata.org/pandas-docs/stable/indexing.html#indexing-view-versus-copy\n",
      "  \"\"\"Entry point for launching an IPython kernel.\n"
     ]
    },
    {
     "data": {
      "text/html": [
       "<div>\n",
       "<style scoped>\n",
       "    .dataframe tbody tr th:only-of-type {\n",
       "        vertical-align: middle;\n",
       "    }\n",
       "\n",
       "    .dataframe tbody tr th {\n",
       "        vertical-align: top;\n",
       "    }\n",
       "\n",
       "    .dataframe thead th {\n",
       "        text-align: right;\n",
       "    }\n",
       "</style>\n",
       "<table border=\"1\" class=\"dataframe\">\n",
       "  <thead>\n",
       "    <tr style=\"text-align: right;\">\n",
       "      <th></th>\n",
       "      <th>name</th>\n",
       "      <th>geometry</th>\n",
       "      <th>center</th>\n",
       "    </tr>\n",
       "  </thead>\n",
       "  <tbody>\n",
       "    <tr>\n",
       "      <th>41</th>\n",
       "      <td>Urban Residents</td>\n",
       "      <td>(POLYGON ((-86.78122053774267 36.1645653773768...</td>\n",
       "      <td>POINT (-86.77756457127047 36.16127820928791)</td>\n",
       "    </tr>\n",
       "  </tbody>\n",
       "</table>\n",
       "</div>"
      ],
      "text/plain": [
       "               name                                           geometry  \\\n",
       "41  Urban Residents  (POLYGON ((-86.78122053774267 36.1645653773768...   \n",
       "\n",
       "                                          center  \n",
       "41  POINT (-86.77756457127047 36.16127820928791)  "
      ]
     },
     "execution_count": 4,
     "metadata": {},
     "output_type": "execute_result"
    }
   ],
   "source": [
    "urban_polygon['center'] = urban_polygon.loc[41,'geometry'].centroid\n",
    "urban_polygon.head()"
   ]
  },
  {
   "cell_type": "markdown",
   "metadata": {},
   "source": [
    "# Create a folium location from the urban centroid"
   ]
  },
  {
   "cell_type": "code",
   "execution_count": 5,
   "metadata": {},
   "outputs": [
    {
     "name": "stdout",
     "output_type": "stream",
     "text": [
      "POINT (-86.77756457127047 36.16127820928791)\n",
      "[36.161278209287914, -86.77756457127047]\n"
     ]
    }
   ],
   "source": [
    "# Create urban_center from the urban_polygon center\n",
    "urban_center = urban_polygon.loc[41,\"center\"]\n",
    "\n",
    "# Print urban_center\n",
    "print(urban_center)\n",
    "\n",
    "# Create array for folium called urban_location\n",
    "urban_location = [urban_center.y, urban_center.x]\n",
    "\n",
    "# Print urban_location\n",
    "print(urban_location)"
   ]
  },
  {
   "cell_type": "markdown",
   "metadata": {},
   "source": [
    "# Create a folium map of downtown Nashville"
   ]
  },
  {
   "cell_type": "code",
   "execution_count": 6,
   "metadata": {},
   "outputs": [
    {
     "data": {
      "text/html": [
       "<div style=\"width:100%;\"><div style=\"position:relative;width:100%;height:0;padding-bottom:60%;\"><iframe src=\"data:text/html;charset=utf-8;base64,PCFET0NUWVBFIGh0bWw+CjxoZWFkPiAgICAKICAgIDxtZXRhIGh0dHAtZXF1aXY9ImNvbnRlbnQtdHlwZSIgY29udGVudD0idGV4dC9odG1sOyBjaGFyc2V0PVVURi04IiAvPgogICAgCiAgICAgICAgPHNjcmlwdD4KICAgICAgICAgICAgTF9OT19UT1VDSCA9IGZhbHNlOwogICAgICAgICAgICBMX0RJU0FCTEVfM0QgPSBmYWxzZTsKICAgICAgICA8L3NjcmlwdD4KICAgIAogICAgPHNjcmlwdCBzcmM9Imh0dHBzOi8vY2RuLmpzZGVsaXZyLm5ldC9ucG0vbGVhZmxldEAxLjUuMS9kaXN0L2xlYWZsZXQuanMiPjwvc2NyaXB0PgogICAgPHNjcmlwdCBzcmM9Imh0dHBzOi8vY29kZS5qcXVlcnkuY29tL2pxdWVyeS0xLjEyLjQubWluLmpzIj48L3NjcmlwdD4KICAgIDxzY3JpcHQgc3JjPSJodHRwczovL21heGNkbi5ib290c3RyYXBjZG4uY29tL2Jvb3RzdHJhcC8zLjIuMC9qcy9ib290c3RyYXAubWluLmpzIj48L3NjcmlwdD4KICAgIDxzY3JpcHQgc3JjPSJodHRwczovL2NkbmpzLmNsb3VkZmxhcmUuY29tL2FqYXgvbGlicy9MZWFmbGV0LmF3ZXNvbWUtbWFya2Vycy8yLjAuMi9sZWFmbGV0LmF3ZXNvbWUtbWFya2Vycy5qcyI+PC9zY3JpcHQ+CiAgICA8bGluayByZWw9InN0eWxlc2hlZXQiIGhyZWY9Imh0dHBzOi8vY2RuLmpzZGVsaXZyLm5ldC9ucG0vbGVhZmxldEAxLjUuMS9kaXN0L2xlYWZsZXQuY3NzIi8+CiAgICA8bGluayByZWw9InN0eWxlc2hlZXQiIGhyZWY9Imh0dHBzOi8vbWF4Y2RuLmJvb3RzdHJhcGNkbi5jb20vYm9vdHN0cmFwLzMuMi4wL2Nzcy9ib290c3RyYXAubWluLmNzcyIvPgogICAgPGxpbmsgcmVsPSJzdHlsZXNoZWV0IiBocmVmPSJodHRwczovL21heGNkbi5ib290c3RyYXBjZG4uY29tL2Jvb3RzdHJhcC8zLjIuMC9jc3MvYm9vdHN0cmFwLXRoZW1lLm1pbi5jc3MiLz4KICAgIDxsaW5rIHJlbD0ic3R5bGVzaGVldCIgaHJlZj0iaHR0cHM6Ly9tYXhjZG4uYm9vdHN0cmFwY2RuLmNvbS9mb250LWF3ZXNvbWUvNC42LjMvY3NzL2ZvbnQtYXdlc29tZS5taW4uY3NzIi8+CiAgICA8bGluayByZWw9InN0eWxlc2hlZXQiIGhyZWY9Imh0dHBzOi8vY2RuanMuY2xvdWRmbGFyZS5jb20vYWpheC9saWJzL0xlYWZsZXQuYXdlc29tZS1tYXJrZXJzLzIuMC4yL2xlYWZsZXQuYXdlc29tZS1tYXJrZXJzLmNzcyIvPgogICAgPGxpbmsgcmVsPSJzdHlsZXNoZWV0IiBocmVmPSJodHRwczovL3Jhd2Nkbi5naXRoYWNrLmNvbS9weXRob24tdmlzdWFsaXphdGlvbi9mb2xpdW0vbWFzdGVyL2ZvbGl1bS90ZW1wbGF0ZXMvbGVhZmxldC5hd2Vzb21lLnJvdGF0ZS5jc3MiLz4KICAgIDxzdHlsZT5odG1sLCBib2R5IHt3aWR0aDogMTAwJTtoZWlnaHQ6IDEwMCU7bWFyZ2luOiAwO3BhZGRpbmc6IDA7fTwvc3R5bGU+CiAgICA8c3R5bGU+I21hcCB7cG9zaXRpb246YWJzb2x1dGU7dG9wOjA7Ym90dG9tOjA7cmlnaHQ6MDtsZWZ0OjA7fTwvc3R5bGU+CiAgICAKICAgICAgICAgICAgPG1ldGEgbmFtZT0idmlld3BvcnQiIGNvbnRlbnQ9IndpZHRoPWRldmljZS13aWR0aCwKICAgICAgICAgICAgICAgIGluaXRpYWwtc2NhbGU9MS4wLCBtYXhpbXVtLXNjYWxlPTEuMCwgdXNlci1zY2FsYWJsZT1ubyIgLz4KICAgICAgICAgICAgPHN0eWxlPgogICAgICAgICAgICAgICAgI21hcF85NDE0YTczYjRhMmI0ZjA3YjU3YWJlMGJhMzJlMWQyYSB7CiAgICAgICAgICAgICAgICAgICAgcG9zaXRpb246IHJlbGF0aXZlOwogICAgICAgICAgICAgICAgICAgIHdpZHRoOiAxMDAuMCU7CiAgICAgICAgICAgICAgICAgICAgaGVpZ2h0OiAxMDAuMCU7CiAgICAgICAgICAgICAgICAgICAgbGVmdDogMC4wJTsKICAgICAgICAgICAgICAgICAgICB0b3A6IDAuMCU7CiAgICAgICAgICAgICAgICB9CiAgICAgICAgICAgIDwvc3R5bGU+CiAgICAgICAgCjwvaGVhZD4KPGJvZHk+ICAgIAogICAgCiAgICAgICAgICAgIDxkaXYgY2xhc3M9ImZvbGl1bS1tYXAiIGlkPSJtYXBfOTQxNGE3M2I0YTJiNGYwN2I1N2FiZTBiYTMyZTFkMmEiID48L2Rpdj4KICAgICAgICAKPC9ib2R5Pgo8c2NyaXB0PiAgICAKICAgIAogICAgICAgICAgICB2YXIgbWFwXzk0MTRhNzNiNGEyYjRmMDdiNTdhYmUwYmEzMmUxZDJhID0gTC5tYXAoCiAgICAgICAgICAgICAgICAibWFwXzk0MTRhNzNiNGEyYjRmMDdiNTdhYmUwYmEzMmUxZDJhIiwKICAgICAgICAgICAgICAgIHsKICAgICAgICAgICAgICAgICAgICBjZW50ZXI6IFszNi4xNjEyNzgyMDkyODc5MTQsIC04Ni43Nzc1NjQ1NzEyNzA0N10sCiAgICAgICAgICAgICAgICAgICAgY3JzOiBMLkNSUy5FUFNHMzg1NywKICAgICAgICAgICAgICAgICAgICB6b29tOiAxNSwKICAgICAgICAgICAgICAgICAgICB6b29tQ29udHJvbDogdHJ1ZSwKICAgICAgICAgICAgICAgICAgICBwcmVmZXJDYW52YXM6IGZhbHNlLAogICAgICAgICAgICAgICAgfQogICAgICAgICAgICApOwoKICAgICAgICAgICAgCgogICAgICAgIAogICAgCiAgICAgICAgICAgIHZhciB0aWxlX2xheWVyXzdmNGFhMWNhZTBmMjQzNTM4Yjg0YWNhOWFiNTE0MjRkID0gTC50aWxlTGF5ZXIoCiAgICAgICAgICAgICAgICAiaHR0cHM6Ly97c30udGlsZS5vcGVuc3RyZWV0bWFwLm9yZy97en0ve3h9L3t5fS5wbmciLAogICAgICAgICAgICAgICAgeyJhdHRyaWJ1dGlvbiI6ICJEYXRhIGJ5IFx1MDAyNmNvcHk7IFx1MDAzY2EgaHJlZj1cImh0dHA6Ly9vcGVuc3RyZWV0bWFwLm9yZ1wiXHUwMDNlT3BlblN0cmVldE1hcFx1MDAzYy9hXHUwMDNlLCB1bmRlciBcdTAwM2NhIGhyZWY9XCJodHRwOi8vd3d3Lm9wZW5zdHJlZXRtYXAub3JnL2NvcHlyaWdodFwiXHUwMDNlT0RiTFx1MDAzYy9hXHUwMDNlLiIsICJkZXRlY3RSZXRpbmEiOiBmYWxzZSwgIm1heE5hdGl2ZVpvb20iOiAxOCwgIm1heFpvb20iOiAxOCwgIm1pblpvb20iOiAwLCAibm9XcmFwIjogZmFsc2UsICJvcGFjaXR5IjogMSwgInN1YmRvbWFpbnMiOiAiYWJjIiwgInRtcyI6IGZhbHNlfQogICAgICAgICAgICApLmFkZFRvKG1hcF85NDE0YTczYjRhMmI0ZjA3YjU3YWJlMGJhMzJlMWQyYSk7CiAgICAgICAgCjwvc2NyaXB0Pg==\" style=\"position:absolute;width:100%;height:100%;left:0;top:0;border:none !important;\" allowfullscreen webkitallowfullscreen mozallowfullscreen></iframe></div></div>"
      ],
      "text/plain": [
       "<folium.folium.Map at 0x11aea0630>"
      ]
     },
     "metadata": {},
     "output_type": "display_data"
    }
   ],
   "source": [
    "# Construct a folium map with urban_location\n",
    "downtown_map = folium.Map(location = urban_location, zoom_start = 15)\n",
    "\n",
    "# Display the map\n",
    "display(downtown_map)"
   ]
  },
  {
   "cell_type": "markdown",
   "metadata": {},
   "source": [
    "# Folium street map of the downtown neighborhood"
   ]
  },
  {
   "cell_type": "code",
   "execution_count": 7,
   "metadata": {},
   "outputs": [
    {
     "data": {
      "text/html": [
       "<div style=\"width:100%;\"><div style=\"position:relative;width:100%;height:0;padding-bottom:60%;\"><iframe src=\"data:text/html;charset=utf-8;base64,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\" style=\"position:absolute;width:100%;height:100%;left:0;top:0;border:none !important;\" allowfullscreen webkitallowfullscreen mozallowfullscreen></iframe></div></div>"
      ],
      "text/plain": [
       "<folium.folium.Map at 0x11aeb19e8>"
      ]
     },
     "metadata": {},
     "output_type": "display_data"
    }
   ],
   "source": [
    "# Create array for called folium_loc from the urban_polygon center point\n",
    "point = urban_polygon.loc[41,\"center\"]\n",
    "folium_loc = [point.y, point.x]\n",
    "\n",
    "# Construct a map from folium_loc: downtown_map\n",
    "downtown_map = folium.Map(location = folium_loc, zoom_start = 15)\n",
    "\n",
    "# Draw our neighborhood: Urban Residents\n",
    "folium.GeoJson(urban_polygon.geometry).add_to(downtown_map)\n",
    "\n",
    "# Display the map\n",
    "display(downtown_map)"
   ]
  },
  {
   "cell_type": "code",
   "execution_count": null,
   "metadata": {},
   "outputs": [],
   "source": []
  }
 ],
 "metadata": {
  "kernelspec": {
   "display_name": "Python 3",
   "language": "python",
   "name": "python3"
  },
  "language_info": {
   "codemirror_mode": {
    "name": "ipython",
    "version": 3
   },
   "file_extension": ".py",
   "mimetype": "text/x-python",
   "name": "python",
   "nbconvert_exporter": "python",
   "pygments_lexer": "ipython3",
   "version": "3.7.3"
  }
 },
 "nbformat": 4,
 "nbformat_minor": 4
}
