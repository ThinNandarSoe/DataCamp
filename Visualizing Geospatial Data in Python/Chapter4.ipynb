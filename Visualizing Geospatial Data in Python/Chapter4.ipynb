{
 "cells": [
  {
   "cell_type": "code",
   "execution_count": 17,
   "metadata": {},
   "outputs": [],
   "source": [
    "import pandas as pd\n",
    "import geopandas as gpd\n",
    "import matplotlib.pyplot as plt\n",
    "from shapely.geometry import Point"
   ]
  },
  {
   "cell_type": "code",
   "execution_count": 2,
   "metadata": {},
   "outputs": [
    {
     "data": {
      "text/html": [
       "<div>\n",
       "<style scoped>\n",
       "    .dataframe tbody tr th:only-of-type {\n",
       "        vertical-align: middle;\n",
       "    }\n",
       "\n",
       "    .dataframe tbody tr th {\n",
       "        vertical-align: top;\n",
       "    }\n",
       "\n",
       "    .dataframe thead th {\n",
       "        text-align: right;\n",
       "    }\n",
       "</style>\n",
       "<table border=\"1\" class=\"dataframe\">\n",
       "  <thead>\n",
       "    <tr style=\"text-align: right;\">\n",
       "      <th></th>\n",
       "      <th>permit_id</th>\n",
       "      <th>issued</th>\n",
       "      <th>cost</th>\n",
       "      <th>lat</th>\n",
       "      <th>lng</th>\n",
       "    </tr>\n",
       "  </thead>\n",
       "  <tbody>\n",
       "    <tr>\n",
       "      <th>0</th>\n",
       "      <td>2017032777</td>\n",
       "      <td>2017-05-24</td>\n",
       "      <td>226201.0</td>\n",
       "      <td>36.198241</td>\n",
       "      <td>-86.742235</td>\n",
       "    </tr>\n",
       "    <tr>\n",
       "      <th>1</th>\n",
       "      <td>2017061156</td>\n",
       "      <td>2017-10-23</td>\n",
       "      <td>15000.0</td>\n",
       "      <td>36.151554</td>\n",
       "      <td>-86.830222</td>\n",
       "    </tr>\n",
       "    <tr>\n",
       "      <th>2</th>\n",
       "      <td>2017074521</td>\n",
       "      <td>2017-11-20</td>\n",
       "      <td>13389.0</td>\n",
       "      <td>36.034239</td>\n",
       "      <td>-86.708892</td>\n",
       "    </tr>\n",
       "    <tr>\n",
       "      <th>3</th>\n",
       "      <td>2017035041</td>\n",
       "      <td>2017-05-30</td>\n",
       "      <td>40000.0</td>\n",
       "      <td>36.128659</td>\n",
       "      <td>-86.841815</td>\n",
       "    </tr>\n",
       "    <tr>\n",
       "      <th>4</th>\n",
       "      <td>2017000049</td>\n",
       "      <td>2017-01-09</td>\n",
       "      <td>268107.0</td>\n",
       "      <td>36.045042</td>\n",
       "      <td>-86.616211</td>\n",
       "    </tr>\n",
       "  </tbody>\n",
       "</table>\n",
       "</div>"
      ],
      "text/plain": [
       "    permit_id      issued      cost        lat        lng\n",
       "0  2017032777  2017-05-24  226201.0  36.198241 -86.742235\n",
       "1  2017061156  2017-10-23   15000.0  36.151554 -86.830222\n",
       "2  2017074521  2017-11-20   13389.0  36.034239 -86.708892\n",
       "3  2017035041  2017-05-30   40000.0  36.128659 -86.841815\n",
       "4  2017000049  2017-01-09  268107.0  36.045042 -86.616211"
      ]
     },
     "execution_count": 2,
     "metadata": {},
     "output_type": "execute_result"
    }
   ],
   "source": [
    "permits = pd.read_csv('./datasets/building_permits_2017.csv')\n",
    "permits.head()"
   ]
  },
  {
   "cell_type": "code",
   "execution_count": 3,
   "metadata": {},
   "outputs": [
    {
     "data": {
      "text/html": [
       "<div>\n",
       "<style scoped>\n",
       "    .dataframe tbody tr th:only-of-type {\n",
       "        vertical-align: middle;\n",
       "    }\n",
       "\n",
       "    .dataframe tbody tr th {\n",
       "        vertical-align: top;\n",
       "    }\n",
       "\n",
       "    .dataframe thead th {\n",
       "        text-align: right;\n",
       "    }\n",
       "</style>\n",
       "<table border=\"1\" class=\"dataframe\">\n",
       "  <thead>\n",
       "    <tr style=\"text-align: right;\">\n",
       "      <th></th>\n",
       "      <th>district</th>\n",
       "      <th>geometry</th>\n",
       "    </tr>\n",
       "  </thead>\n",
       "  <tbody>\n",
       "    <tr>\n",
       "      <th>0</th>\n",
       "      <td>1</td>\n",
       "      <td>(POLYGON ((-86.90738248774342 36.3905151283193...</td>\n",
       "    </tr>\n",
       "    <tr>\n",
       "      <th>1</th>\n",
       "      <td>2</td>\n",
       "      <td>(POLYGON ((-86.75902399986667 36.2309080000732...</td>\n",
       "    </tr>\n",
       "    <tr>\n",
       "      <th>2</th>\n",
       "      <td>8</td>\n",
       "      <td>(POLYGON ((-86.72850199989709 36.2832840002146...</td>\n",
       "    </tr>\n",
       "    <tr>\n",
       "      <th>3</th>\n",
       "      <td>9</td>\n",
       "      <td>(POLYGON ((-86.68680500011935 36.2867050001350...</td>\n",
       "    </tr>\n",
       "    <tr>\n",
       "      <th>4</th>\n",
       "      <td>4</td>\n",
       "      <td>(POLYGON ((-86.74488864807594 36.0531632050230...</td>\n",
       "    </tr>\n",
       "  </tbody>\n",
       "</table>\n",
       "</div>"
      ],
      "text/plain": [
       "  district                                           geometry\n",
       "0        1  (POLYGON ((-86.90738248774342 36.3905151283193...\n",
       "1        2  (POLYGON ((-86.75902399986667 36.2309080000732...\n",
       "2        8  (POLYGON ((-86.72850199989709 36.2832840002146...\n",
       "3        9  (POLYGON ((-86.68680500011935 36.2867050001350...\n",
       "4        4  (POLYGON ((-86.74488864807594 36.0531632050230..."
      ]
     },
     "execution_count": 3,
     "metadata": {},
     "output_type": "execute_result"
    }
   ],
   "source": [
    "council_districts = gpd.read_file('./datasets/council_districts.geojson')[['district','geometry']]\n",
    "council_districts.head()"
   ]
  },
  {
   "cell_type": "markdown",
   "metadata": {},
   "source": [
    "## Finding counts from a spatial join"
   ]
  },
  {
   "cell_type": "code",
   "execution_count": 4,
   "metadata": {},
   "outputs": [
    {
     "data": {
      "text/html": [
       "<div>\n",
       "<style scoped>\n",
       "    .dataframe tbody tr th:only-of-type {\n",
       "        vertical-align: middle;\n",
       "    }\n",
       "\n",
       "    .dataframe tbody tr th {\n",
       "        vertical-align: top;\n",
       "    }\n",
       "\n",
       "    .dataframe thead th {\n",
       "        text-align: right;\n",
       "    }\n",
       "</style>\n",
       "<table border=\"1\" class=\"dataframe\">\n",
       "  <thead>\n",
       "    <tr style=\"text-align: right;\">\n",
       "      <th></th>\n",
       "      <th>permit_id</th>\n",
       "      <th>issued</th>\n",
       "      <th>cost</th>\n",
       "      <th>lat</th>\n",
       "      <th>lng</th>\n",
       "      <th>geometry</th>\n",
       "      <th>index_right</th>\n",
       "      <th>district</th>\n",
       "    </tr>\n",
       "  </thead>\n",
       "  <tbody>\n",
       "    <tr>\n",
       "      <th>0</th>\n",
       "      <td>2017032777</td>\n",
       "      <td>2017-05-24</td>\n",
       "      <td>226201.0</td>\n",
       "      <td>36.198241</td>\n",
       "      <td>-86.742235</td>\n",
       "      <td>POINT (-86.74223499999999 36.198241)</td>\n",
       "      <td>5</td>\n",
       "      <td>5</td>\n",
       "    </tr>\n",
       "    <tr>\n",
       "      <th>68</th>\n",
       "      <td>2017053890</td>\n",
       "      <td>2017-09-05</td>\n",
       "      <td>0.0</td>\n",
       "      <td>36.185442</td>\n",
       "      <td>-86.768239</td>\n",
       "      <td>POINT (-86.76823900000001 36.185442)</td>\n",
       "      <td>5</td>\n",
       "      <td>5</td>\n",
       "    </tr>\n",
       "  </tbody>\n",
       "</table>\n",
       "</div>"
      ],
      "text/plain": [
       "     permit_id      issued      cost        lat        lng  \\\n",
       "0   2017032777  2017-05-24  226201.0  36.198241 -86.742235   \n",
       "68  2017053890  2017-09-05       0.0  36.185442 -86.768239   \n",
       "\n",
       "                                geometry  index_right district  \n",
       "0   POINT (-86.74223499999999 36.198241)            5        5  \n",
       "68  POINT (-86.76823900000001 36.185442)            5        5  "
      ]
     },
     "execution_count": 4,
     "metadata": {},
     "output_type": "execute_result"
    }
   ],
   "source": [
    "# Create a shapely Point from lat and lng\n",
    "permits['geometry'] = permits.apply(lambda x: Point((x.lng , x.lat)), axis = 1)\n",
    "\n",
    "# Build a GeoDataFrame: permits_geo\n",
    "permits_geo = gpd.GeoDataFrame(permits, crs = council_districts.crs, geometry = permits.geometry)\n",
    "\n",
    "# Spatial join of permits_geo and council_districts\n",
    "permits_by_district = gpd.sjoin(permits_geo, council_districts, op = 'within')\n",
    "permits_by_district.head(2)"
   ]
  },
  {
   "cell_type": "code",
   "execution_count": 5,
   "metadata": {},
   "outputs": [
    {
     "data": {
      "text/plain": [
       "district\n",
       "1     146\n",
       "10    119\n",
       "11    239\n",
       "12    163\n",
       "13    139\n",
       "dtype: int64"
      ]
     },
     "execution_count": 5,
     "metadata": {},
     "output_type": "execute_result"
    }
   ],
   "source": [
    "# Create permit_counts\n",
    "permit_counts = permits_by_district.groupby(['district']).size()\n",
    "permit_counts.head()"
   ]
  },
  {
   "cell_type": "markdown",
   "metadata": {},
   "source": [
    "## Council district areas and permit counts"
   ]
  },
  {
   "cell_type": "code",
   "execution_count": 6,
   "metadata": {},
   "outputs": [
    {
     "data": {
      "text/html": [
       "<div>\n",
       "<style scoped>\n",
       "    .dataframe tbody tr th:only-of-type {\n",
       "        vertical-align: middle;\n",
       "    }\n",
       "\n",
       "    .dataframe tbody tr th {\n",
       "        vertical-align: top;\n",
       "    }\n",
       "\n",
       "    .dataframe thead th {\n",
       "        text-align: right;\n",
       "    }\n",
       "</style>\n",
       "<table border=\"1\" class=\"dataframe\">\n",
       "  <thead>\n",
       "    <tr style=\"text-align: right;\">\n",
       "      <th></th>\n",
       "      <th>district</th>\n",
       "      <th>geometry</th>\n",
       "      <th>area</th>\n",
       "    </tr>\n",
       "  </thead>\n",
       "  <tbody>\n",
       "    <tr>\n",
       "      <th>0</th>\n",
       "      <td>1</td>\n",
       "      <td>(POLYGON ((-86.90738248774342 36.3905151283193...</td>\n",
       "      <td>0.022786</td>\n",
       "    </tr>\n",
       "    <tr>\n",
       "      <th>1</th>\n",
       "      <td>2</td>\n",
       "      <td>(POLYGON ((-86.75902399986667 36.2309080000732...</td>\n",
       "      <td>0.002927</td>\n",
       "    </tr>\n",
       "  </tbody>\n",
       "</table>\n",
       "</div>"
      ],
      "text/plain": [
       "  district                                           geometry      area\n",
       "0        1  (POLYGON ((-86.90738248774342 36.3905151283193...  0.022786\n",
       "1        2  (POLYGON ((-86.75902399986667 36.2309080000732...  0.002927"
      ]
     },
     "execution_count": 6,
     "metadata": {},
     "output_type": "execute_result"
    }
   ],
   "source": [
    "# Create an area column in council_districts\n",
    "council_districts['area'] = council_districts.geometry.area\n",
    "council_districts.head(2)"
   ]
  },
  {
   "cell_type": "code",
   "execution_count": 7,
   "metadata": {},
   "outputs": [
    {
     "name": "stdout",
     "output_type": "stream",
     "text": [
      "            0\n",
      "district     \n",
      "1         146\n",
      "10        119\n"
     ]
    }
   ],
   "source": [
    "# Convert permit_counts to a DataFrame\n",
    "permits_df = permit_counts.to_frame()\n",
    "print(permits_df.head(2))"
   ]
  },
  {
   "cell_type": "code",
   "execution_count": 8,
   "metadata": {},
   "outputs": [
    {
     "name": "stdout",
     "output_type": "stream",
     "text": [
      "  district  bldg_permits\n",
      "0        1           146\n",
      "1       10           119\n"
     ]
    }
   ],
   "source": [
    "# Reset index and column names\n",
    "permits_df.reset_index(inplace=True)\n",
    "permits_df.columns = ['district', 'bldg_permits']\n",
    "print(permits_df.head(2))"
   ]
  },
  {
   "cell_type": "code",
   "execution_count": 9,
   "metadata": {},
   "outputs": [
    {
     "data": {
      "text/html": [
       "<div>\n",
       "<style scoped>\n",
       "    .dataframe tbody tr th:only-of-type {\n",
       "        vertical-align: middle;\n",
       "    }\n",
       "\n",
       "    .dataframe tbody tr th {\n",
       "        vertical-align: top;\n",
       "    }\n",
       "\n",
       "    .dataframe thead th {\n",
       "        text-align: right;\n",
       "    }\n",
       "</style>\n",
       "<table border=\"1\" class=\"dataframe\">\n",
       "  <thead>\n",
       "    <tr style=\"text-align: right;\">\n",
       "      <th></th>\n",
       "      <th>district</th>\n",
       "      <th>geometry</th>\n",
       "      <th>area</th>\n",
       "      <th>bldg_permits</th>\n",
       "    </tr>\n",
       "  </thead>\n",
       "  <tbody>\n",
       "    <tr>\n",
       "      <th>0</th>\n",
       "      <td>1</td>\n",
       "      <td>(POLYGON ((-86.90738248774342 36.3905151283193...</td>\n",
       "      <td>0.022786</td>\n",
       "      <td>146</td>\n",
       "    </tr>\n",
       "    <tr>\n",
       "      <th>1</th>\n",
       "      <td>2</td>\n",
       "      <td>(POLYGON ((-86.75902399986667 36.2309080000732...</td>\n",
       "      <td>0.002927</td>\n",
       "      <td>399</td>\n",
       "    </tr>\n",
       "  </tbody>\n",
       "</table>\n",
       "</div>"
      ],
      "text/plain": [
       "  district                                           geometry      area  \\\n",
       "0        1  (POLYGON ((-86.90738248774342 36.3905151283193...  0.022786   \n",
       "1        2  (POLYGON ((-86.75902399986667 36.2309080000732...  0.002927   \n",
       "\n",
       "   bldg_permits  \n",
       "0           146  \n",
       "1           399  "
      ]
     },
     "execution_count": 9,
     "metadata": {},
     "output_type": "execute_result"
    }
   ],
   "source": [
    "# Merge council_districts and permits_df: \n",
    "districts_and_permits = pd.merge(council_districts, permits_df, on = 'district')\n",
    "districts_and_permits.head(2)"
   ]
  },
  {
   "cell_type": "markdown",
   "metadata": {},
   "source": [
    "## Calculating a normalized metric"
   ]
  },
  {
   "cell_type": "code",
   "execution_count": 11,
   "metadata": {},
   "outputs": [
    {
     "name": "stdout",
     "output_type": "stream",
     "text": [
      "<class 'geopandas.geodataframe.GeoDataFrame'>\n"
     ]
    },
    {
     "data": {
      "text/html": [
       "<div>\n",
       "<style scoped>\n",
       "    .dataframe tbody tr th:only-of-type {\n",
       "        vertical-align: middle;\n",
       "    }\n",
       "\n",
       "    .dataframe tbody tr th {\n",
       "        vertical-align: top;\n",
       "    }\n",
       "\n",
       "    .dataframe thead th {\n",
       "        text-align: right;\n",
       "    }\n",
       "</style>\n",
       "<table border=\"1\" class=\"dataframe\">\n",
       "  <thead>\n",
       "    <tr style=\"text-align: right;\">\n",
       "      <th></th>\n",
       "      <th>district</th>\n",
       "      <th>geometry</th>\n",
       "      <th>area</th>\n",
       "      <th>bldg_permits</th>\n",
       "    </tr>\n",
       "  </thead>\n",
       "  <tbody>\n",
       "    <tr>\n",
       "      <th>0</th>\n",
       "      <td>1</td>\n",
       "      <td>(POLYGON ((-86.90738248774342 36.3905151283193...</td>\n",
       "      <td>350.194851</td>\n",
       "      <td>146</td>\n",
       "    </tr>\n",
       "    <tr>\n",
       "      <th>1</th>\n",
       "      <td>2</td>\n",
       "      <td>(POLYGON ((-86.75902399986667 36.2309080000732...</td>\n",
       "      <td>44.956987</td>\n",
       "      <td>399</td>\n",
       "    </tr>\n",
       "    <tr>\n",
       "      <th>2</th>\n",
       "      <td>8</td>\n",
       "      <td>(POLYGON ((-86.72850199989709 36.2832840002146...</td>\n",
       "      <td>38.667932</td>\n",
       "      <td>209</td>\n",
       "    </tr>\n",
       "    <tr>\n",
       "      <th>3</th>\n",
       "      <td>9</td>\n",
       "      <td>(POLYGON ((-86.68680500011935 36.2867050001350...</td>\n",
       "      <td>44.295293</td>\n",
       "      <td>186</td>\n",
       "    </tr>\n",
       "    <tr>\n",
       "      <th>4</th>\n",
       "      <td>4</td>\n",
       "      <td>(POLYGON ((-86.74488864807594 36.0531632050230...</td>\n",
       "      <td>31.441618</td>\n",
       "      <td>139</td>\n",
       "    </tr>\n",
       "  </tbody>\n",
       "</table>\n",
       "</div>"
      ],
      "text/plain": [
       "  district                                           geometry        area  \\\n",
       "0        1  (POLYGON ((-86.90738248774342 36.3905151283193...  350.194851   \n",
       "1        2  (POLYGON ((-86.75902399986667 36.2309080000732...   44.956987   \n",
       "2        8  (POLYGON ((-86.72850199989709 36.2832840002146...   38.667932   \n",
       "3        9  (POLYGON ((-86.68680500011935 36.2867050001350...   44.295293   \n",
       "4        4  (POLYGON ((-86.74488864807594 36.0531632050230...   31.441618   \n",
       "\n",
       "   bldg_permits  \n",
       "0           146  \n",
       "1           399  \n",
       "2           209  \n",
       "3           186  \n",
       "4           139  "
      ]
     },
     "execution_count": 11,
     "metadata": {},
     "output_type": "execute_result"
    }
   ],
   "source": [
    "# Print the type of districts_and_permits and change the area of unit to meters from degrees. \n",
    "# To conver meters to kilometers in area, divided by 10**6 to km2 from m2\n",
    "print(type(districts_and_permits))\n",
    "districts_and_permits['area'] = districts_and_permits['geometry'].to_crs(epsg = 3857).area / (10**6)\n",
    "districts_and_permits.head()"
   ]
  },
  {
   "cell_type": "code",
   "execution_count": 13,
   "metadata": {},
   "outputs": [
    {
     "data": {
      "text/html": [
       "<div>\n",
       "<style scoped>\n",
       "    .dataframe tbody tr th:only-of-type {\n",
       "        vertical-align: middle;\n",
       "    }\n",
       "\n",
       "    .dataframe tbody tr th {\n",
       "        vertical-align: top;\n",
       "    }\n",
       "\n",
       "    .dataframe thead th {\n",
       "        text-align: right;\n",
       "    }\n",
       "</style>\n",
       "<table border=\"1\" class=\"dataframe\">\n",
       "  <thead>\n",
       "    <tr style=\"text-align: right;\">\n",
       "      <th></th>\n",
       "      <th>district</th>\n",
       "      <th>geometry</th>\n",
       "      <th>area</th>\n",
       "      <th>bldg_permits</th>\n",
       "      <th>permit_density</th>\n",
       "    </tr>\n",
       "  </thead>\n",
       "  <tbody>\n",
       "    <tr>\n",
       "      <th>0</th>\n",
       "      <td>1</td>\n",
       "      <td>(POLYGON ((-86.90738248774342 36.3905151283193...</td>\n",
       "      <td>350.194851</td>\n",
       "      <td>146</td>\n",
       "      <td>0.416911</td>\n",
       "    </tr>\n",
       "    <tr>\n",
       "      <th>1</th>\n",
       "      <td>2</td>\n",
       "      <td>(POLYGON ((-86.75902399986667 36.2309080000732...</td>\n",
       "      <td>44.956987</td>\n",
       "      <td>399</td>\n",
       "      <td>8.875150</td>\n",
       "    </tr>\n",
       "    <tr>\n",
       "      <th>2</th>\n",
       "      <td>8</td>\n",
       "      <td>(POLYGON ((-86.72850199989709 36.2832840002146...</td>\n",
       "      <td>38.667932</td>\n",
       "      <td>209</td>\n",
       "      <td>5.404995</td>\n",
       "    </tr>\n",
       "    <tr>\n",
       "      <th>3</th>\n",
       "      <td>9</td>\n",
       "      <td>(POLYGON ((-86.68680500011935 36.2867050001350...</td>\n",
       "      <td>44.295293</td>\n",
       "      <td>186</td>\n",
       "      <td>4.199092</td>\n",
       "    </tr>\n",
       "    <tr>\n",
       "      <th>4</th>\n",
       "      <td>4</td>\n",
       "      <td>(POLYGON ((-86.74488864807594 36.0531632050230...</td>\n",
       "      <td>31.441618</td>\n",
       "      <td>139</td>\n",
       "      <td>4.420892</td>\n",
       "    </tr>\n",
       "  </tbody>\n",
       "</table>\n",
       "</div>"
      ],
      "text/plain": [
       "  district                                           geometry        area  \\\n",
       "0        1  (POLYGON ((-86.90738248774342 36.3905151283193...  350.194851   \n",
       "1        2  (POLYGON ((-86.75902399986667 36.2309080000732...   44.956987   \n",
       "2        8  (POLYGON ((-86.72850199989709 36.2832840002146...   38.667932   \n",
       "3        9  (POLYGON ((-86.68680500011935 36.2867050001350...   44.295293   \n",
       "4        4  (POLYGON ((-86.74488864807594 36.0531632050230...   31.441618   \n",
       "\n",
       "   bldg_permits  permit_density  \n",
       "0           146        0.416911  \n",
       "1           399        8.875150  \n",
       "2           209        5.404995  \n",
       "3           186        4.199092  \n",
       "4           139        4.420892  "
      ]
     },
     "execution_count": 13,
     "metadata": {},
     "output_type": "execute_result"
    }
   ],
   "source": [
    "# Create permit_density column in districts_and_permits\n",
    "districts_and_permits['permit_density'] = districts_and_permits.apply(lambda row: row.bldg_permits / row.area, axis = 1)\n",
    "\n",
    "# Print the head of districts_and_permits\n",
    "districts_and_permits.head()"
   ]
  },
  {
   "cell_type": "markdown",
   "metadata": {},
   "source": [
    "## Geopandas choropleths"
   ]
  },
  {
   "cell_type": "code",
   "execution_count": 18,
   "metadata": {},
   "outputs": [
    {
     "data": {
      "image/png": "[encoded data removed]",
      "text/plain": [
       "<Figure size 432x288 with 2 Axes>"
      ]
     },
     "metadata": {
      "needs_background": "light"
     },
     "output_type": "display_data"
    }
   ],
   "source": [
    "# Simple plot of building permit_density\n",
    "districts_and_permits.plot(column = 'permit_density', legend = True);\n",
    "plt.show();"
   ]
  },
  {
   "cell_type": "code",
   "execution_count": 19,
   "metadata": {},
   "outputs": [
    {
     "data": {
      "image/png": "[encoded data removed]",
      "text/plain": [
       "<Figure size 432x288 with 2 Axes>"
      ]
     },
     "metadata": {
      "needs_background": "light"
     },
     "output_type": "display_data"
    }
   ],
   "source": [
    "# Polished choropleth of building permit_density\n",
    "districts_and_permits.plot(column = 'permit_density', cmap = 'BuGn', edgecolor = 'black', legend = True)\n",
    "plt.xlabel('longitude')\n",
    "plt.ylabel('latitude')\n",
    "plt.xticks(rotation = 'vertical')\n",
    "plt.title('2017 Building Project Density by Council District')\n",
    "plt.show();"
   ]
  },
  {
   "cell_type": "markdown",
   "metadata": {},
   "source": [
    "## Area in km squared, geometry in decimal degrees"
   ]
  },
  {
   "cell_type": "code",
   "execution_count": 20,
   "metadata": {},
   "outputs": [
    {
     "name": "stdout",
     "output_type": "stream",
     "text": [
      "{'init': 'epsg:3857', 'no_defs': True}\n",
      "  district                                           geometry      area\n",
      "0        1  (POLYGON ((-9674485.564711858 4354489.55569189...  0.022786\n",
      "1        2  (POLYGON ((-9657970.37338656 4332440.649821124...  0.002927\n",
      "2        8  (POLYGON ((-9654572.679891953 4339671.15221535...  0.002517\n",
      "3        9  (POLYGON ((-9649930.991109086 4340143.58970314...  0.002883\n",
      "4        4  (POLYGON ((-9656396.83322303 4307939.01495162,...  0.002052\n",
      "{'init': 'epsg:4326', 'no_defs': True}\n",
      "  district                                           geometry        area\n",
      "0        1  (POLYGON ((-86.9073824877434 36.39051512831935...  350.194851\n",
      "1        2  (POLYGON ((-86.75902399986667 36.2309080000731...   44.956987\n",
      "2        8  (POLYGON ((-86.72850199989709 36.2832840002146...   38.667932\n",
      "3        9  (POLYGON ((-86.68680500011934 36.2867050001350...   44.295293\n",
      "4        4  (POLYGON ((-86.74488864807593 36.0531632050230...   31.441618\n"
     ]
    }
   ],
   "source": [
    "# Change council_districts crs to epsg 3857\n",
    "council_districts = council_districts.to_crs(epsg = 3857)\n",
    "print(council_districts.crs)\n",
    "print(council_districts.head())\n",
    "\n",
    "# Create area in square km\n",
    "sqm_to_sqkm = 10**6\n",
    "council_districts['area'] = council_districts.geometry.area / sqm_to_sqkm\n",
    "\n",
    "# Change council_districts crs back to epsg 4326\n",
    "council_districts = council_districts.to_crs(epsg = 4326)\n",
    "print(council_districts.crs)\n",
    "print(council_districts.head())"
   ]
  },
  {
   "cell_type": "markdown",
   "metadata": {},
   "source": [
    "## Spatially joining and getting counts"
   ]
  },
  {
   "cell_type": "code",
   "execution_count": 22,
   "metadata": {},
   "outputs": [
    {
     "data": {
      "text/html": [
       "<div>\n",
       "<style scoped>\n",
       "    .dataframe tbody tr th:only-of-type {\n",
       "        vertical-align: middle;\n",
       "    }\n",
       "\n",
       "    .dataframe tbody tr th {\n",
       "        vertical-align: top;\n",
       "    }\n",
       "\n",
       "    .dataframe thead th {\n",
       "        text-align: right;\n",
       "    }\n",
       "</style>\n",
       "<table border=\"1\" class=\"dataframe\">\n",
       "  <thead>\n",
       "    <tr style=\"text-align: right;\">\n",
       "      <th></th>\n",
       "      <th>permit_id</th>\n",
       "      <th>issued</th>\n",
       "      <th>cost</th>\n",
       "      <th>lat</th>\n",
       "      <th>lng</th>\n",
       "      <th>geometry</th>\n",
       "    </tr>\n",
       "  </thead>\n",
       "  <tbody>\n",
       "    <tr>\n",
       "      <th>0</th>\n",
       "      <td>2017032777</td>\n",
       "      <td>2017-05-24</td>\n",
       "      <td>226201.0</td>\n",
       "      <td>36.198241</td>\n",
       "      <td>-86.742235</td>\n",
       "      <td>POINT (-86.74223499999999 36.198241)</td>\n",
       "    </tr>\n",
       "    <tr>\n",
       "      <th>1</th>\n",
       "      <td>2017061156</td>\n",
       "      <td>2017-10-23</td>\n",
       "      <td>15000.0</td>\n",
       "      <td>36.151554</td>\n",
       "      <td>-86.830222</td>\n",
       "      <td>POINT (-86.83022199999999 36.151554)</td>\n",
       "    </tr>\n",
       "    <tr>\n",
       "      <th>2</th>\n",
       "      <td>2017074521</td>\n",
       "      <td>2017-11-20</td>\n",
       "      <td>13389.0</td>\n",
       "      <td>36.034239</td>\n",
       "      <td>-86.708892</td>\n",
       "      <td>POINT (-86.70889200000001 36.034239)</td>\n",
       "    </tr>\n",
       "    <tr>\n",
       "      <th>3</th>\n",
       "      <td>2017035041</td>\n",
       "      <td>2017-05-30</td>\n",
       "      <td>40000.0</td>\n",
       "      <td>36.128659</td>\n",
       "      <td>-86.841815</td>\n",
       "      <td>POINT (-86.841815 36.12865900000001)</td>\n",
       "    </tr>\n",
       "    <tr>\n",
       "      <th>4</th>\n",
       "      <td>2017000049</td>\n",
       "      <td>2017-01-09</td>\n",
       "      <td>268107.0</td>\n",
       "      <td>36.045042</td>\n",
       "      <td>-86.616211</td>\n",
       "      <td>POINT (-86.61621099999999 36.045042)</td>\n",
       "    </tr>\n",
       "  </tbody>\n",
       "</table>\n",
       "</div>"
      ],
      "text/plain": [
       "    permit_id      issued      cost        lat        lng  \\\n",
       "0  2017032777  2017-05-24  226201.0  36.198241 -86.742235   \n",
       "1  2017061156  2017-10-23   15000.0  36.151554 -86.830222   \n",
       "2  2017074521  2017-11-20   13389.0  36.034239 -86.708892   \n",
       "3  2017035041  2017-05-30   40000.0  36.128659 -86.841815   \n",
       "4  2017000049  2017-01-09  268107.0  36.045042 -86.616211   \n",
       "\n",
       "                               geometry  \n",
       "0  POINT (-86.74223499999999 36.198241)  \n",
       "1  POINT (-86.83022199999999 36.151554)  \n",
       "2  POINT (-86.70889200000001 36.034239)  \n",
       "3  POINT (-86.841815 36.12865900000001)  \n",
       "4  POINT (-86.61621099999999 36.045042)  "
      ]
     },
     "execution_count": 22,
     "metadata": {},
     "output_type": "execute_result"
    }
   ],
   "source": [
    "# Create permits_geo\n",
    "permits_geo = gpd.GeoDataFrame(permits, crs = council_districts.crs, geometry = permits.geometry)\n",
    "permits_geo.head()"
   ]
  },
  {
   "cell_type": "code",
   "execution_count": 24,
   "metadata": {},
   "outputs": [
    {
     "name": "stdout",
     "output_type": "stream",
     "text": [
      "     permit_id      issued      cost        lat        lng  \\\n",
      "0   2017032777  2017-05-24  226201.0  36.198241 -86.742235   \n",
      "68  2017053890  2017-09-05       0.0  36.185442 -86.768239   \n",
      "\n",
      "                                geometry  index_right district       area  \n",
      "0   POINT (-86.74223499999999 36.198241)            5        5  19.030612  \n",
      "68  POINT (-86.76823900000001 36.185442)            5        5  19.030612  \n",
      "  district  bldg_permits\n",
      "0        1           146\n",
      "1       10           119\n"
     ]
    }
   ],
   "source": [
    "# Spatially join permits_geo and council_districts\n",
    "permits_by_district = gpd.sjoin(permits_geo, council_districts, op = 'within')\n",
    "print(permits_by_district.head(2))\n",
    "\n",
    "# Count permits in each district\n",
    "permit_counts = permits_by_district.groupby(\"district\").size()\n",
    "\n",
    "# Convert permit_counts to a df with 2 columns: district and bldg_permits\n",
    "counts_df = permit_counts.to_frame()\n",
    "counts_df.reset_index(inplace=True)\n",
    "counts_df.columns = ['district', 'bldg_permits']\n",
    "print(counts_df.head(2))"
   ]
  },
  {
   "cell_type": "markdown",
   "metadata": {},
   "source": [
    "## Building a polished Geopandas choropleth"
   ]
  },
  {
   "cell_type": "code",
   "execution_count": null,
   "metadata": {},
   "outputs": [],
   "source": []
  },
  {
   "cell_type": "code",
   "execution_count": null,
   "metadata": {},
   "outputs": [],
   "source": []
  },
  {
   "cell_type": "code",
   "execution_count": null,
   "metadata": {},
   "outputs": [],
   "source": []
  }
 ],
 "metadata": {
  "kernelspec": {
   "display_name": "Python 3",
   "language": "python",
   "name": "python3"
  },
  "language_info": {
   "codemirror_mode": {
    "name": "ipython",
    "version": 3
   },
   "file_extension": ".py",
   "mimetype": "text/x-python",
   "name": "python",
   "nbconvert_exporter": "python",
   "pygments_lexer": "ipython3",
   "version": "3.7.3"
  }
 },
 "nbformat": 4,
 "nbformat_minor": 4
}
